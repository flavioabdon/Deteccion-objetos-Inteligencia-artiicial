{
 "cells": [
  {
   "cell_type": "code",
   "execution_count": null,
   "id": "4c881288-b206-42e8-8f36-d6e3aa12acd5",
   "metadata": {},
   "outputs": [
    {
     "name": "stdout",
     "output_type": "stream",
     "text": [
      "WARNING: A conda environment already exists at '/home/arch20/.conda/envs/deteccionobj'\n",
      "Remove existing environment (y/[n])? "
     ]
    }
   ],
   "source": [
    "! conda create -n deteccionobj python=3.6"
   ]
  },
  {
   "cell_type": "code",
   "execution_count": null,
   "id": "9f3e071c-132a-4c61-abb7-1abce2dfdb7f",
   "metadata": {},
   "outputs": [],
   "source": [
    "source activate deteccionobj"
   ]
  },
  {
   "cell_type": "code",
   "execution_count": null,
   "id": "a8f43e1a-5e0b-4e33-89f0-ca0747508e80",
   "metadata": {},
   "outputs": [],
   "source": [
    "pip install -r requirements.txt"
   ]
  },
  {
   "cell_type": "code",
   "execution_count": null,
   "id": "bf44abed-91b3-4605-8902-1190e3d3f008",
   "metadata": {},
   "outputs": [],
   "source": []
  }
 ],
 "metadata": {
  "kernelspec": {
   "display_name": "Python 3 (ipykernel)",
   "language": "python",
   "name": "python3"
  },
  "language_info": {
   "codemirror_mode": {
    "name": "ipython",
    "version": 3
   },
   "file_extension": ".py",
   "mimetype": "text/x-python",
   "name": "python",
   "nbconvert_exporter": "python",
   "pygments_lexer": "ipython3",
   "version": "3.9.12"
  }
 },
 "nbformat": 4,
 "nbformat_minor": 5
}
